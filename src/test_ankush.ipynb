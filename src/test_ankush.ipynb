{
 "cells": [
  {
   "cell_type": "code",
   "execution_count": 4,
   "metadata": {},
   "outputs": [
    {
     "name": "stdout",
     "output_type": "stream",
     "text": [
      "8\n",
      "4\n",
      "2\n",
      "1\n"
     ]
    }
   ],
   "source": [
    "ch_mult = [1,2,4,8]\n",
    "num_resolutions = len(ch_mult)\n",
    "for i_level in reversed(range(num_resolutions)):\n",
    "    print(ch_mult[i_level])\n",
    "  "
   ]
  },
  {
   "cell_type": "code",
   "execution_count": 1,
   "metadata": {},
   "outputs": [
    {
     "name": "stdout",
     "output_type": "stream",
     "text": [
      "Input tensor shape: torch.Size([32, 240, 16, 64, 64])\n",
      "Output tensor shape: torch.Size([32, 256, 8, 32, 32])\n",
      "(1, 1, 1, 1, 1, 1)\n"
     ]
    }
   ],
   "source": [
    "import torch\n",
    "import torch.nn as nn\n",
    "import torch.nn.functional as F\n",
    "\n",
    "# Define the convolutional class\n",
    "class SamePadConv3d(nn.Module):\n",
    "    def __init__(self, in_channels, out_channels, kernel_size, stride=1, bias=True):\n",
    "        super().__init__()\n",
    "        if isinstance(kernel_size, int):\n",
    "            kernel_size = (kernel_size,) * 3\n",
    "        if isinstance(stride, int):\n",
    "            stride = (stride,) * 3\n",
    "\n",
    "        # assumes that the input shape is divisible by stride\n",
    "        total_pad = tuple([k - s for k, s in zip(kernel_size, stride)])\n",
    "        pad_input = []\n",
    "        for p in total_pad[::-1]: # reverse since F.pad starts from last dim\n",
    "            pad_input.append((p // 2 + p % 2, p // 2))\n",
    "        pad_input = sum(pad_input, tuple())\n",
    "        self.pad_input = pad_input\n",
    "\n",
    "        self.conv = nn.Conv3d(in_channels, out_channels, kernel_size,\n",
    "                              stride=stride, padding=0, bias=bias)\n",
    "\n",
    "    def forward(self, x):\n",
    "        return self.conv(F.pad(x, self.pad_input))\n",
    "\n",
    "# Create an instance of the convolutional class\n",
    "conv_module = SamePadConv3d(in_channels=240,out_channels=256,kernel_size=4,stride=2)\n",
    "\n",
    "# Create a random input tensor (batch size, channels, time, height, width)\n",
    "input_tensor = torch.randn(32, 240, 16, 64, 64)\n",
    "\n",
    "# Pass the input tensor through the convolutional module\n",
    "output_tensor = conv_module(input_tensor)\n",
    "\n",
    "# Print the shapes of input and output tensors\n",
    "print(\"Input tensor shape:\", input_tensor.shape)\n",
    "print(\"Output tensor shape:\", output_tensor.shape)\n",
    "print(conv_module.pad_input)\n"
   ]
  },
  {
   "cell_type": "code",
   "execution_count": 4,
   "metadata": {},
   "outputs": [
    {
     "name": "stdout",
     "output_type": "stream",
     "text": [
      "tensor([[0.5000, 0.5000],\n",
      "        [0.5000, 0.5000]])\n",
      "tensor([[0., 0.],\n",
      "        [1., 1.]])\n",
      "torch.Size([2, 2])\n"
     ]
    }
   ],
   "source": [
    "import torch\n",
    "threshold_s = 0.5\n",
    "mean_prec = torch.tensor([[0.2, 0.4], [0.6, 0.8]])\n",
    "threshold = torch.ones(mean_prec.size())*threshold_s\n",
    "labels_classification = (mean_prec > threshold).float()\n",
    "print(threshold)\n",
    "print(labels_classification) \n",
    "print(mean_prec.size())"
   ]
  },
  {
   "cell_type": "code",
   "execution_count": null,
   "metadata": {},
   "outputs": [],
   "source": []
  }
 ],
 "metadata": {
  "kernelspec": {
   "display_name": "myenv_exp_1",
   "language": "python",
   "name": "python3"
  },
  "language_info": {
   "codemirror_mode": {
    "name": "ipython",
    "version": 3
   },
   "file_extension": ".py",
   "mimetype": "text/x-python",
   "name": "python",
   "nbconvert_exporter": "python",
   "pygments_lexer": "ipython3",
   "version": "3.8.16"
  },
  "orig_nbformat": 4
 },
 "nbformat": 4,
 "nbformat_minor": 2
}
